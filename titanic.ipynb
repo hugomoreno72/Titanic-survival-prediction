{
 "cells": [
  {
   "cell_type": "markdown",
   "id": "093595b0-27f1-4ca7-8746-5ef77a113793",
   "metadata": {},
   "source": [
    "# Titanic - Machine Learning from Disaster\n",
    "\n",
    "The target is simple: use machine learning to create a model that predicts which passengers survived the Titanic shipwreck. The dataset was taken out from Kaggle: \"Titanic - Machine Learning from Disaster\".\n",
    "\n",
    "### About the data\n",
    "\n",
    "I have access to two similar datasets that include passenger information like name, age, gender, socio-economic class, etc. One dataset is titled train.csv and the other is titled test.csv.\n",
    "\n",
    "Train.csv contains the details of a subset of the passengers on board (891 to be exact) and importantly, will reveal whether they survived or not.\n",
    "\n",
    "The test.csv dataset contains similar information but does not disclose the “ground truth” for each passenger. \n",
    "\n",
    "Using the patterns in the train.csv data, I have to predict whether the other 418 passengers on board (found in test.csv) survived."
   ]
  },
  {
   "cell_type": "code",
   "execution_count": 1,
   "id": "7911d854-2841-47f6-9560-fe8b0459234b",
   "metadata": {},
   "outputs": [],
   "source": [
    "# Libraries\n",
    "import pandas as pd\n",
    "import numpy as np\n",
    "import matplotlib.pyplot as plt\n",
    "import seaborn as sns\n",
    "from sklearn.preprocessing import OrdinalEncoder\n",
    "from sklearn.ensemble import RandomForestClassifier\n",
    "from sklearn.model_selection import cross_val_score\n",
    "import warnings\n",
    "warnings.filterwarnings('ignore')"
   ]
  },
  {
   "cell_type": "code",
   "execution_count": 2,
   "id": "308c1cfa-f0e1-4da7-8ea4-f9aa069ea6b6",
   "metadata": {},
   "outputs": [
    {
     "name": "stdout",
     "output_type": "stream",
     "text": [
      "Training shape: (891, 12)  | Test shape: (418, 11)\n"
     ]
    }
   ],
   "source": [
    "# Datasets\n",
    "df_train=pd.read_csv(\"train.csv\")\n",
    "df_test=pd.read_csv(\"test.csv\")\n",
    "submission=pd.read_csv(\"gender_submission.csv\")\n",
    "print(\"Training shape:\",df_train.shape,\" | Test shape:\",df_test.shape)\n"
   ]
  },
  {
   "cell_type": "code",
   "execution_count": 3,
   "id": "178bdcaf-2455-4cd1-8e69-894db1492027",
   "metadata": {},
   "outputs": [
    {
     "data": {
      "text/html": [
       "<div>\n",
       "<style scoped>\n",
       "    .dataframe tbody tr th:only-of-type {\n",
       "        vertical-align: middle;\n",
       "    }\n",
       "\n",
       "    .dataframe tbody tr th {\n",
       "        vertical-align: top;\n",
       "    }\n",
       "\n",
       "    .dataframe thead th {\n",
       "        text-align: right;\n",
       "    }\n",
       "</style>\n",
       "<table border=\"1\" class=\"dataframe\">\n",
       "  <thead>\n",
       "    <tr style=\"text-align: right;\">\n",
       "      <th></th>\n",
       "      <th>PassengerId</th>\n",
       "      <th>Survived</th>\n",
       "      <th>Pclass</th>\n",
       "      <th>Name</th>\n",
       "      <th>Sex</th>\n",
       "      <th>Age</th>\n",
       "      <th>SibSp</th>\n",
       "      <th>Parch</th>\n",
       "      <th>Ticket</th>\n",
       "      <th>Fare</th>\n",
       "      <th>Cabin</th>\n",
       "      <th>Embarked</th>\n",
       "    </tr>\n",
       "  </thead>\n",
       "  <tbody>\n",
       "    <tr>\n",
       "      <th>0</th>\n",
       "      <td>1</td>\n",
       "      <td>0</td>\n",
       "      <td>3</td>\n",
       "      <td>Braund, Mr. Owen Harris</td>\n",
       "      <td>male</td>\n",
       "      <td>22.0</td>\n",
       "      <td>1</td>\n",
       "      <td>0</td>\n",
       "      <td>A/5 21171</td>\n",
       "      <td>7.2500</td>\n",
       "      <td>NaN</td>\n",
       "      <td>S</td>\n",
       "    </tr>\n",
       "    <tr>\n",
       "      <th>1</th>\n",
       "      <td>2</td>\n",
       "      <td>1</td>\n",
       "      <td>1</td>\n",
       "      <td>Cumings, Mrs. John Bradley (Florence Briggs Th...</td>\n",
       "      <td>female</td>\n",
       "      <td>38.0</td>\n",
       "      <td>1</td>\n",
       "      <td>0</td>\n",
       "      <td>PC 17599</td>\n",
       "      <td>71.2833</td>\n",
       "      <td>C85</td>\n",
       "      <td>C</td>\n",
       "    </tr>\n",
       "    <tr>\n",
       "      <th>2</th>\n",
       "      <td>3</td>\n",
       "      <td>1</td>\n",
       "      <td>3</td>\n",
       "      <td>Heikkinen, Miss. Laina</td>\n",
       "      <td>female</td>\n",
       "      <td>26.0</td>\n",
       "      <td>0</td>\n",
       "      <td>0</td>\n",
       "      <td>STON/O2. 3101282</td>\n",
       "      <td>7.9250</td>\n",
       "      <td>NaN</td>\n",
       "      <td>S</td>\n",
       "    </tr>\n",
       "    <tr>\n",
       "      <th>3</th>\n",
       "      <td>4</td>\n",
       "      <td>1</td>\n",
       "      <td>1</td>\n",
       "      <td>Futrelle, Mrs. Jacques Heath (Lily May Peel)</td>\n",
       "      <td>female</td>\n",
       "      <td>35.0</td>\n",
       "      <td>1</td>\n",
       "      <td>0</td>\n",
       "      <td>113803</td>\n",
       "      <td>53.1000</td>\n",
       "      <td>C123</td>\n",
       "      <td>S</td>\n",
       "    </tr>\n",
       "    <tr>\n",
       "      <th>4</th>\n",
       "      <td>5</td>\n",
       "      <td>0</td>\n",
       "      <td>3</td>\n",
       "      <td>Allen, Mr. William Henry</td>\n",
       "      <td>male</td>\n",
       "      <td>35.0</td>\n",
       "      <td>0</td>\n",
       "      <td>0</td>\n",
       "      <td>373450</td>\n",
       "      <td>8.0500</td>\n",
       "      <td>NaN</td>\n",
       "      <td>S</td>\n",
       "    </tr>\n",
       "  </tbody>\n",
       "</table>\n",
       "</div>"
      ],
      "text/plain": [
       "   PassengerId  Survived  Pclass  \\\n",
       "0            1         0       3   \n",
       "1            2         1       1   \n",
       "2            3         1       3   \n",
       "3            4         1       1   \n",
       "4            5         0       3   \n",
       "\n",
       "                                                Name     Sex   Age  SibSp  \\\n",
       "0                            Braund, Mr. Owen Harris    male  22.0      1   \n",
       "1  Cumings, Mrs. John Bradley (Florence Briggs Th...  female  38.0      1   \n",
       "2                             Heikkinen, Miss. Laina  female  26.0      0   \n",
       "3       Futrelle, Mrs. Jacques Heath (Lily May Peel)  female  35.0      1   \n",
       "4                           Allen, Mr. William Henry    male  35.0      0   \n",
       "\n",
       "   Parch            Ticket     Fare Cabin Embarked  \n",
       "0      0         A/5 21171   7.2500   NaN        S  \n",
       "1      0          PC 17599  71.2833   C85        C  \n",
       "2      0  STON/O2. 3101282   7.9250   NaN        S  \n",
       "3      0            113803  53.1000  C123        S  \n",
       "4      0            373450   8.0500   NaN        S  "
      ]
     },
     "execution_count": 3,
     "metadata": {},
     "output_type": "execute_result"
    }
   ],
   "source": [
    "df_train.head()"
   ]
  },
  {
   "cell_type": "code",
   "execution_count": 4,
   "id": "fb296ec2-e2c9-4ee7-a27c-67d27b753d24",
   "metadata": {},
   "outputs": [
    {
     "data": {
      "text/html": [
       "<div>\n",
       "<style scoped>\n",
       "    .dataframe tbody tr th:only-of-type {\n",
       "        vertical-align: middle;\n",
       "    }\n",
       "\n",
       "    .dataframe tbody tr th {\n",
       "        vertical-align: top;\n",
       "    }\n",
       "\n",
       "    .dataframe thead th {\n",
       "        text-align: right;\n",
       "    }\n",
       "</style>\n",
       "<table border=\"1\" class=\"dataframe\">\n",
       "  <thead>\n",
       "    <tr style=\"text-align: right;\">\n",
       "      <th></th>\n",
       "      <th>PassengerId</th>\n",
       "      <th>Pclass</th>\n",
       "      <th>Name</th>\n",
       "      <th>Sex</th>\n",
       "      <th>Age</th>\n",
       "      <th>SibSp</th>\n",
       "      <th>Parch</th>\n",
       "      <th>Ticket</th>\n",
       "      <th>Fare</th>\n",
       "      <th>Cabin</th>\n",
       "      <th>Embarked</th>\n",
       "    </tr>\n",
       "  </thead>\n",
       "  <tbody>\n",
       "    <tr>\n",
       "      <th>0</th>\n",
       "      <td>892</td>\n",
       "      <td>3</td>\n",
       "      <td>Kelly, Mr. James</td>\n",
       "      <td>male</td>\n",
       "      <td>34.5</td>\n",
       "      <td>0</td>\n",
       "      <td>0</td>\n",
       "      <td>330911</td>\n",
       "      <td>7.8292</td>\n",
       "      <td>NaN</td>\n",
       "      <td>Q</td>\n",
       "    </tr>\n",
       "    <tr>\n",
       "      <th>1</th>\n",
       "      <td>893</td>\n",
       "      <td>3</td>\n",
       "      <td>Wilkes, Mrs. James (Ellen Needs)</td>\n",
       "      <td>female</td>\n",
       "      <td>47.0</td>\n",
       "      <td>1</td>\n",
       "      <td>0</td>\n",
       "      <td>363272</td>\n",
       "      <td>7.0000</td>\n",
       "      <td>NaN</td>\n",
       "      <td>S</td>\n",
       "    </tr>\n",
       "    <tr>\n",
       "      <th>2</th>\n",
       "      <td>894</td>\n",
       "      <td>2</td>\n",
       "      <td>Myles, Mr. Thomas Francis</td>\n",
       "      <td>male</td>\n",
       "      <td>62.0</td>\n",
       "      <td>0</td>\n",
       "      <td>0</td>\n",
       "      <td>240276</td>\n",
       "      <td>9.6875</td>\n",
       "      <td>NaN</td>\n",
       "      <td>Q</td>\n",
       "    </tr>\n",
       "    <tr>\n",
       "      <th>3</th>\n",
       "      <td>895</td>\n",
       "      <td>3</td>\n",
       "      <td>Wirz, Mr. Albert</td>\n",
       "      <td>male</td>\n",
       "      <td>27.0</td>\n",
       "      <td>0</td>\n",
       "      <td>0</td>\n",
       "      <td>315154</td>\n",
       "      <td>8.6625</td>\n",
       "      <td>NaN</td>\n",
       "      <td>S</td>\n",
       "    </tr>\n",
       "    <tr>\n",
       "      <th>4</th>\n",
       "      <td>896</td>\n",
       "      <td>3</td>\n",
       "      <td>Hirvonen, Mrs. Alexander (Helga E Lindqvist)</td>\n",
       "      <td>female</td>\n",
       "      <td>22.0</td>\n",
       "      <td>1</td>\n",
       "      <td>1</td>\n",
       "      <td>3101298</td>\n",
       "      <td>12.2875</td>\n",
       "      <td>NaN</td>\n",
       "      <td>S</td>\n",
       "    </tr>\n",
       "  </tbody>\n",
       "</table>\n",
       "</div>"
      ],
      "text/plain": [
       "   PassengerId  Pclass                                          Name     Sex  \\\n",
       "0          892       3                              Kelly, Mr. James    male   \n",
       "1          893       3              Wilkes, Mrs. James (Ellen Needs)  female   \n",
       "2          894       2                     Myles, Mr. Thomas Francis    male   \n",
       "3          895       3                              Wirz, Mr. Albert    male   \n",
       "4          896       3  Hirvonen, Mrs. Alexander (Helga E Lindqvist)  female   \n",
       "\n",
       "    Age  SibSp  Parch   Ticket     Fare Cabin Embarked  \n",
       "0  34.5      0      0   330911   7.8292   NaN        Q  \n",
       "1  47.0      1      0   363272   7.0000   NaN        S  \n",
       "2  62.0      0      0   240276   9.6875   NaN        Q  \n",
       "3  27.0      0      0   315154   8.6625   NaN        S  \n",
       "4  22.0      1      1  3101298  12.2875   NaN        S  "
      ]
     },
     "execution_count": 4,
     "metadata": {},
     "output_type": "execute_result"
    }
   ],
   "source": [
    "df_test.head()"
   ]
  },
  {
   "cell_type": "markdown",
   "id": "29cf7402-8ca9-48e0-a12e-58e967653d74",
   "metadata": {},
   "source": [
    "### Exploratory Data Analysis\n",
    "Before building a model, I will analyze and explore our dataset in order to identify patters, missing values and other relevant stuff."
   ]
  },
  {
   "cell_type": "code",
   "execution_count": 5,
   "id": "5d04363f-494f-4de5-b367-feca8bcc0e42",
   "metadata": {},
   "outputs": [
    {
     "name": "stdout",
     "output_type": "stream",
     "text": [
      "<class 'pandas.core.frame.DataFrame'>\n",
      "RangeIndex: 891 entries, 0 to 890\n",
      "Data columns (total 12 columns):\n",
      " #   Column       Non-Null Count  Dtype  \n",
      "---  ------       --------------  -----  \n",
      " 0   PassengerId  891 non-null    int64  \n",
      " 1   Survived     891 non-null    int64  \n",
      " 2   Pclass       891 non-null    int64  \n",
      " 3   Name         891 non-null    object \n",
      " 4   Sex          891 non-null    object \n",
      " 5   Age          714 non-null    float64\n",
      " 6   SibSp        891 non-null    int64  \n",
      " 7   Parch        891 non-null    int64  \n",
      " 8   Ticket       891 non-null    object \n",
      " 9   Fare         891 non-null    float64\n",
      " 10  Cabin        204 non-null    object \n",
      " 11  Embarked     889 non-null    object \n",
      "dtypes: float64(2), int64(5), object(5)\n",
      "memory usage: 83.7+ KB\n"
     ]
    }
   ],
   "source": [
    "df_train.info()"
   ]
  },
  {
   "cell_type": "markdown",
   "id": "89be3170-effc-4a46-9c48-d7d630fdb9fe",
   "metadata": {},
   "source": [
    "Let´s find about duplicated and null info:"
   ]
  },
  {
   "cell_type": "code",
   "execution_count": 6,
   "id": "9f37ce19-f7c1-44d8-a21c-dd00366f1ece",
   "metadata": {},
   "outputs": [
    {
     "name": "stdout",
     "output_type": "stream",
     "text": [
      "0\n"
     ]
    }
   ],
   "source": [
    "print(df_train.duplicated().sum())"
   ]
  },
  {
   "cell_type": "code",
   "execution_count": 7,
   "id": "36d478ec-e2d2-4c05-8f3c-6f4051470e09",
   "metadata": {},
   "outputs": [
    {
     "data": {
      "text/plain": [
       "PassengerId      0\n",
       "Survived         0\n",
       "Pclass           0\n",
       "Name             0\n",
       "Sex              0\n",
       "Age            177\n",
       "SibSp            0\n",
       "Parch            0\n",
       "Ticket           0\n",
       "Fare             0\n",
       "Cabin          687\n",
       "Embarked         2\n",
       "dtype: int64"
      ]
     },
     "execution_count": 7,
     "metadata": {},
     "output_type": "execute_result"
    }
   ],
   "source": [
    "df_train.isnull().sum()"
   ]
  },
  {
   "cell_type": "code",
   "execution_count": 8,
   "id": "e12fcc08-df59-4c4b-b99c-040dcc4b4c09",
   "metadata": {},
   "outputs": [
    {
     "data": {
      "image/png": "[encoded data removed]",
      "text/plain": [
       "<Figure size 600x400 with 1 Axes>"
      ]
     },
     "metadata": {},
     "output_type": "display_data"
    }
   ],
   "source": [
    "plt.figure(figsize=(6,4))\n",
    "sns.countplot(x= \"Survived\", hue = \"Survived\", data = df_train, palette = \"Set1\", legend = None)\n",
    "plt.title(\"Survival and Non-Survival counter\")\n",
    "plt.show()"
   ]
  },
  {
   "cell_type": "code",
   "execution_count": 9,
   "id": "977e4d6a-0046-4dc3-89a7-89bdec03ce58",
   "metadata": {},
   "outputs": [
    {
     "data": {
      "image/png": "[encoded data removed]",
      "text/plain": [
       "<Figure size 600x400 with 1 Axes>"
      ]
     },
     "metadata": {},
     "output_type": "display_data"
    }
   ],
   "source": [
    "plt.figure(figsize=(6,4))\n",
    "sns.barplot(x = \"Sex\", y = \"Survived\", hue = \"Sex\", data = df_train, palette = \"Set1\", legend = None)\n",
    "plt.title(\"Survival Rate by Sex\")\n",
    "plt.show()"
   ]
  },
  {
   "cell_type": "code",
   "execution_count": 10,
   "id": "dc094567-6369-4b68-a3af-f72b6a9bce49",
   "metadata": {},
   "outputs": [
    {
     "data": {
      "text/plain": [
       "Sex\n",
       "male      577\n",
       "female    314\n",
       "Name: count, dtype: int64"
      ]
     },
     "execution_count": 10,
     "metadata": {},
     "output_type": "execute_result"
    }
   ],
   "source": [
    "df_train[\"Sex\"].value_counts()"
   ]
  },
  {
   "cell_type": "code",
   "execution_count": 11,
   "id": "906a014e-75fa-4dc1-80d1-16b68bcedf86",
   "metadata": {},
   "outputs": [
    {
     "data": {
      "image/png": "[encoded data removed]",
      "text/plain": [
       "<Figure size 800x500 with 1 Axes>"
      ]
     },
     "metadata": {},
     "output_type": "display_data"
    }
   ],
   "source": [
    "plt.figure(figsize=(8,5))\n",
    "sns.histplot(df_train[df_train[\"Survived\"]==1][\"Age\"], bins=20, color=\"green\", label=\"Survived\")\n",
    "sns.histplot(df_train[df_train[\"Survived\"]==0][\"Age\"], bins=20, color=\"red\", label=\"Not Survived\")\n",
    "plt.legend()\n",
    "plt.title(\"Age Distribution of Survivors vs Non-Survivors\")\n",
    "plt.show()"
   ]
  },
  {
   "cell_type": "code",
   "execution_count": 12,
   "id": "716e7883-8159-4f0b-8120-2dad3dbbd81e",
   "metadata": {},
   "outputs": [
    {
     "data": {
      "image/png": "[encoded data removed]",
      "text/plain": [
       "<Figure size 600x400 with 1 Axes>"
      ]
     },
     "metadata": {},
     "output_type": "display_data"
    }
   ],
   "source": [
    "plt.figure(figsize=(6,4))\n",
    "sns.barplot(x = \"Pclass\", y = \"Survived\", data = df_train, hue = \"Pclass\", palette = \"Set2\", legend = None)\n",
    "plt.title(\"Survival Rate by Passenger Class\")\n",
    "plt.show()"
   ]
  },
  {
   "cell_type": "markdown",
   "id": "bf76f338-b730-4e36-aff7-7497833cb0b0",
   "metadata": {},
   "source": [
    "I will drop irrelevant columns:"
   ]
  },
  {
   "cell_type": "code",
   "execution_count": 13,
   "id": "cbd60fac-04ee-4af5-9781-6293fa6fa221",
   "metadata": {},
   "outputs": [
    {
     "data": {
      "text/html": [
       "<div>\n",
       "<style scoped>\n",
       "    .dataframe tbody tr th:only-of-type {\n",
       "        vertical-align: middle;\n",
       "    }\n",
       "\n",
       "    .dataframe tbody tr th {\n",
       "        vertical-align: top;\n",
       "    }\n",
       "\n",
       "    .dataframe thead th {\n",
       "        text-align: right;\n",
       "    }\n",
       "</style>\n",
       "<table border=\"1\" class=\"dataframe\">\n",
       "  <thead>\n",
       "    <tr style=\"text-align: right;\">\n",
       "      <th></th>\n",
       "      <th>Survived</th>\n",
       "      <th>Pclass</th>\n",
       "      <th>Sex</th>\n",
       "      <th>Age</th>\n",
       "      <th>SibSp</th>\n",
       "      <th>Parch</th>\n",
       "      <th>Embarked</th>\n",
       "    </tr>\n",
       "  </thead>\n",
       "  <tbody>\n",
       "    <tr>\n",
       "      <th>0</th>\n",
       "      <td>0</td>\n",
       "      <td>3</td>\n",
       "      <td>male</td>\n",
       "      <td>22.0</td>\n",
       "      <td>1</td>\n",
       "      <td>0</td>\n",
       "      <td>S</td>\n",
       "    </tr>\n",
       "    <tr>\n",
       "      <th>1</th>\n",
       "      <td>1</td>\n",
       "      <td>1</td>\n",
       "      <td>female</td>\n",
       "      <td>38.0</td>\n",
       "      <td>1</td>\n",
       "      <td>0</td>\n",
       "      <td>C</td>\n",
       "    </tr>\n",
       "    <tr>\n",
       "      <th>2</th>\n",
       "      <td>1</td>\n",
       "      <td>3</td>\n",
       "      <td>female</td>\n",
       "      <td>26.0</td>\n",
       "      <td>0</td>\n",
       "      <td>0</td>\n",
       "      <td>S</td>\n",
       "    </tr>\n",
       "    <tr>\n",
       "      <th>3</th>\n",
       "      <td>1</td>\n",
       "      <td>1</td>\n",
       "      <td>female</td>\n",
       "      <td>35.0</td>\n",
       "      <td>1</td>\n",
       "      <td>0</td>\n",
       "      <td>S</td>\n",
       "    </tr>\n",
       "    <tr>\n",
       "      <th>4</th>\n",
       "      <td>0</td>\n",
       "      <td>3</td>\n",
       "      <td>male</td>\n",
       "      <td>35.0</td>\n",
       "      <td>0</td>\n",
       "      <td>0</td>\n",
       "      <td>S</td>\n",
       "    </tr>\n",
       "  </tbody>\n",
       "</table>\n",
       "</div>"
      ],
      "text/plain": [
       "   Survived  Pclass     Sex   Age  SibSp  Parch Embarked\n",
       "0         0       3    male  22.0      1      0        S\n",
       "1         1       1  female  38.0      1      0        C\n",
       "2         1       3  female  26.0      0      0        S\n",
       "3         1       1  female  35.0      1      0        S\n",
       "4         0       3    male  35.0      0      0        S"
      ]
     },
     "execution_count": 13,
     "metadata": {},
     "output_type": "execute_result"
    }
   ],
   "source": [
    "df_train = df_train.drop(columns=[\"PassengerId\",\"Cabin\",\"Fare\",\"Ticket\",\"Name\"])\n",
    "df_test = df_test.drop(columns=[\"PassengerId\",\"Cabin\",\"Fare\",\"Ticket\",\"Name\"])\n",
    "df_train.head()"
   ]
  },
  {
   "cell_type": "markdown",
   "id": "f7871943-f976-4de9-8d03-1ba090765de2",
   "metadata": {},
   "source": [
    "I am about to separate df_train in two datasets. X will have all info related to passengers except if the survived or not, because that info will be in Y."
   ]
  },
  {
   "cell_type": "code",
   "execution_count": 14,
   "id": "dd4606ce-3798-4877-9966-b0128ec8373f",
   "metadata": {},
   "outputs": [],
   "source": [
    "X_train = df_train.drop(columns = [\"Survived\"])\n",
    "y_train = df_train.Survived"
   ]
  },
  {
   "cell_type": "markdown",
   "id": "1bf39608-8f4f-4368-9d65-53f44838548f",
   "metadata": {},
   "source": [
    "Before modelling, it is important to move from categorical values to numerical."
   ]
  },
  {
   "cell_type": "code",
   "execution_count": 15,
   "id": "54110ea6-9f02-4432-a6a7-d3c7c0d8f263",
   "metadata": {},
   "outputs": [
    {
     "data": {
      "text/plain": [
       "Pclass        int64\n",
       "Sex          object\n",
       "Age         float64\n",
       "SibSp         int64\n",
       "Parch         int64\n",
       "Embarked     object\n",
       "dtype: object"
      ]
     },
     "execution_count": 15,
     "metadata": {},
     "output_type": "execute_result"
    }
   ],
   "source": [
    "X_train.dtypes"
   ]
  },
  {
   "cell_type": "code",
   "execution_count": 16,
   "id": "a8f888cd-2998-45c8-af2b-23dc4b6c3b9b",
   "metadata": {},
   "outputs": [
    {
     "data": {
      "text/html": [
       "<div>\n",
       "<style scoped>\n",
       "    .dataframe tbody tr th:only-of-type {\n",
       "        vertical-align: middle;\n",
       "    }\n",
       "\n",
       "    .dataframe tbody tr th {\n",
       "        vertical-align: top;\n",
       "    }\n",
       "\n",
       "    .dataframe thead th {\n",
       "        text-align: right;\n",
       "    }\n",
       "</style>\n",
       "<table border=\"1\" class=\"dataframe\">\n",
       "  <thead>\n",
       "    <tr style=\"text-align: right;\">\n",
       "      <th></th>\n",
       "      <th>Pclass</th>\n",
       "      <th>Sex</th>\n",
       "      <th>Age</th>\n",
       "      <th>SibSp</th>\n",
       "      <th>Parch</th>\n",
       "      <th>Embarked</th>\n",
       "    </tr>\n",
       "  </thead>\n",
       "  <tbody>\n",
       "    <tr>\n",
       "      <th>0</th>\n",
       "      <td>3</td>\n",
       "      <td>1.0</td>\n",
       "      <td>22.0</td>\n",
       "      <td>1</td>\n",
       "      <td>0</td>\n",
       "      <td>2.0</td>\n",
       "    </tr>\n",
       "    <tr>\n",
       "      <th>1</th>\n",
       "      <td>1</td>\n",
       "      <td>0.0</td>\n",
       "      <td>38.0</td>\n",
       "      <td>1</td>\n",
       "      <td>0</td>\n",
       "      <td>0.0</td>\n",
       "    </tr>\n",
       "    <tr>\n",
       "      <th>2</th>\n",
       "      <td>3</td>\n",
       "      <td>0.0</td>\n",
       "      <td>26.0</td>\n",
       "      <td>0</td>\n",
       "      <td>0</td>\n",
       "      <td>2.0</td>\n",
       "    </tr>\n",
       "    <tr>\n",
       "      <th>3</th>\n",
       "      <td>1</td>\n",
       "      <td>0.0</td>\n",
       "      <td>35.0</td>\n",
       "      <td>1</td>\n",
       "      <td>0</td>\n",
       "      <td>2.0</td>\n",
       "    </tr>\n",
       "    <tr>\n",
       "      <th>4</th>\n",
       "      <td>3</td>\n",
       "      <td>1.0</td>\n",
       "      <td>35.0</td>\n",
       "      <td>0</td>\n",
       "      <td>0</td>\n",
       "      <td>2.0</td>\n",
       "    </tr>\n",
       "  </tbody>\n",
       "</table>\n",
       "</div>"
      ],
      "text/plain": [
       "   Pclass  Sex   Age  SibSp  Parch  Embarked\n",
       "0       3  1.0  22.0      1      0       2.0\n",
       "1       1  0.0  38.0      1      0       0.0\n",
       "2       3  0.0  26.0      0      0       2.0\n",
       "3       1  0.0  35.0      1      0       2.0\n",
       "4       3  1.0  35.0      0      0       2.0"
      ]
     },
     "execution_count": 16,
     "metadata": {},
     "output_type": "execute_result"
    }
   ],
   "source": [
    "sexencoder = OrdinalEncoder()\n",
    "embarkedencoder = OrdinalEncoder()\n",
    "\n",
    "X_train['Sex'] = sexencoder.fit_transform(X_train[['Sex']])\n",
    "X_train['Embarked'] = embarkedencoder.fit_transform(X_train[['Embarked']])\n",
    "\n",
    "df_test['Sex'] = sexencoder.transform(df_test[['Sex']])\n",
    "df_test['Embarked'] = embarkedencoder.transform(df_test[['Embarked']])\n",
    "\n",
    "X_train.head()"
   ]
  },
  {
   "cell_type": "code",
   "execution_count": 17,
   "id": "2ffadd72-5c22-404c-97ac-8bc77c415b93",
   "metadata": {},
   "outputs": [
    {
     "data": {
      "text/plain": [
       "Pclass        0\n",
       "Sex           0\n",
       "Age         177\n",
       "SibSp         0\n",
       "Parch         0\n",
       "Embarked      2\n",
       "dtype: int64"
      ]
     },
     "execution_count": 17,
     "metadata": {},
     "output_type": "execute_result"
    }
   ],
   "source": [
    "X_train.isnull().sum()"
   ]
  },
  {
   "cell_type": "code",
   "execution_count": 18,
   "id": "51d858cc-032e-4df9-9421-7054016d32bf",
   "metadata": {},
   "outputs": [
    {
     "data": {
      "text/plain": [
       "Pclass       0\n",
       "Sex          0\n",
       "Age         86\n",
       "SibSp        0\n",
       "Parch        0\n",
       "Embarked     0\n",
       "dtype: int64"
      ]
     },
     "execution_count": 18,
     "metadata": {},
     "output_type": "execute_result"
    }
   ],
   "source": [
    "df_test.isnull().sum()"
   ]
  },
  {
   "cell_type": "code",
   "execution_count": 19,
   "id": "f95f902c-ad3d-4e47-af00-d2b602e98cd6",
   "metadata": {},
   "outputs": [],
   "source": [
    "\n",
    "X_train['Age'].fillna(X_train['Age'].median(), inplace=True)\n",
    "X_train['Embarked'].fillna(X_train['Embarked'].median(), inplace=True)\n",
    "\n",
    "df_test['Age'].fillna(df_test['Age'].median(), inplace=True)"
   ]
  },
  {
   "cell_type": "markdown",
   "id": "9da53f75-1c39-4579-a2d7-31c61f8e8034",
   "metadata": {},
   "source": [
    "### Model Building"
   ]
  },
  {
   "cell_type": "code",
   "execution_count": 20,
   "id": "704f6037-b004-4a12-b907-0f7e22ef17c9",
   "metadata": {},
   "outputs": [],
   "source": [
    "from sklearn import preprocessing\n",
    "\n",
    "y_train = y_train.values\n",
    "X_train = X_train.values\n",
    "\n",
    "X_test = df_test.values"
   ]
  },
  {
   "cell_type": "code",
   "execution_count": 21,
   "id": "941e6102-9028-41da-9915-0613d45bfeaf",
   "metadata": {},
   "outputs": [
    {
     "name": "stdout",
     "output_type": "stream",
     "text": [
      "Fitting 5 folds for each of 9 candidates, totalling 45 fits\n",
      "[CV] END ........................................max_depth=1; total time=   0.0s\n",
      "[CV] END ........................................max_depth=1; total time=   0.0s\n",
      "[CV] END ........................................max_depth=1; total time=   0.0s\n",
      "[CV] END ........................................max_depth=1; total time=   0.0s\n",
      "[CV] END ........................................max_depth=1; total time=   0.0s\n",
      "[CV] END ........................................max_depth=2; total time=   0.0s\n",
      "[CV] END ........................................max_depth=2; total time=   0.0s\n",
      "[CV] END ........................................max_depth=2; total time=   0.0s\n",
      "[CV] END ........................................max_depth=2; total time=   0.0s\n",
      "[CV] END ........................................max_depth=2; total time=   0.0s\n",
      "[CV] END ........................................max_depth=3; total time=   0.0s\n",
      "[CV] END ........................................max_depth=3; total time=   0.0s\n",
      "[CV] END ........................................max_depth=3; total time=   0.0s\n",
      "[CV] END ........................................max_depth=3; total time=   0.0s\n",
      "[CV] END ........................................max_depth=3; total time=   0.0s\n",
      "[CV] END ........................................max_depth=4; total time=   0.0s\n",
      "[CV] END ........................................max_depth=4; total time=   0.0s\n",
      "[CV] END ........................................max_depth=4; total time=   0.0s\n",
      "[CV] END ........................................max_depth=4; total time=   0.0s\n",
      "[CV] END ........................................max_depth=4; total time=   0.0s\n",
      "[CV] END ........................................max_depth=5; total time=   0.0s\n",
      "[CV] END ........................................max_depth=5; total time=   0.0s\n",
      "[CV] END ........................................max_depth=5; total time=   0.0s\n",
      "[CV] END ........................................max_depth=5; total time=   0.0s\n",
      "[CV] END ........................................max_depth=5; total time=   0.0s\n",
      "[CV] END ........................................max_depth=6; total time=   0.0s\n",
      "[CV] END ........................................max_depth=6; total time=   0.0s\n",
      "[CV] END ........................................max_depth=6; total time=   0.0s\n",
      "[CV] END ........................................max_depth=6; total time=   0.0s\n",
      "[CV] END ........................................max_depth=6; total time=   0.0s\n",
      "[CV] END ........................................max_depth=7; total time=   0.0s\n",
      "[CV] END ........................................max_depth=7; total time=   0.0s\n",
      "[CV] END ........................................max_depth=7; total time=   0.0s\n",
      "[CV] END ........................................max_depth=7; total time=   0.0s\n",
      "[CV] END ........................................max_depth=7; total time=   0.0s\n",
      "[CV] END ........................................max_depth=8; total time=   0.0s\n",
      "[CV] END ........................................max_depth=8; total time=   0.0s\n",
      "[CV] END ........................................max_depth=8; total time=   0.0s\n",
      "[CV] END ........................................max_depth=8; total time=   0.0s\n",
      "[CV] END ........................................max_depth=8; total time=   0.0s\n",
      "[CV] END ........................................max_depth=9; total time=   0.0s\n",
      "[CV] END ........................................max_depth=9; total time=   0.0s\n",
      "[CV] END ........................................max_depth=9; total time=   0.0s\n",
      "[CV] END ........................................max_depth=9; total time=   0.0s\n",
      "[CV] END ........................................max_depth=9; total time=   0.0s\n",
      "best mean cross-validation score: 0.819\n",
      "best parameters: {'max_depth': 6}\n"
     ]
    },
    {
     "data": {
      "image/png": "[encoded data removed]",
      "text/plain": [
       "<Figure size 640x480 with 1 Axes>"
      ]
     },
     "metadata": {},
     "output_type": "display_data"
    }
   ],
   "source": [
    "from sklearn.model_selection import GridSearchCV\n",
    "from sklearn.tree import DecisionTreeClassifier\n",
    "\n",
    "maxDepth = range(1,10)\n",
    "param_grid = {'max_depth': maxDepth }\n",
    "# ... código aquí\n",
    "grid = GridSearchCV(DecisionTreeClassifier(), param_grid=param_grid, verbose=2, cv=5, scoring='accuracy')\n",
    "grid.fit(X_train, y_train)\n",
    "print(\"best mean cross-validation score: {:.3f}\".format(grid.best_score_))\n",
    "print(\"best parameters: {}\".format(grid.best_params_))\n",
    "\n",
    "scores = np.array(grid.cv_results_['mean_test_score'])\n",
    "plt.plot(maxDepth,scores,'-o')\n",
    "plt.xlabel('max_depth',fontsize=16)\n",
    "plt.ylabel('CV Score')\n",
    "\n",
    "plt.show()"
   ]
  },
  {
   "cell_type": "code",
   "execution_count": 22,
   "id": "52f5667e-2ffe-4ce6-9587-37a95734ba53",
   "metadata": {},
   "outputs": [
    {
     "name": "stdout",
     "output_type": "stream",
     "text": [
      "Train:  0.8518518518518519\n"
     ]
    }
   ],
   "source": [
    "maxDepthOptimo = grid.best_params_['max_depth']\n",
    "treeModel = DecisionTreeClassifier(max_depth=maxDepthOptimo).fit(X_train,y_train)\n",
    "\n",
    "print(\"Train: \",treeModel.score(X_train,y_train))"
   ]
  },
  {
   "cell_type": "markdown",
   "id": "fdfa06db-55c3-4908-94cf-a5d50fb5017e",
   "metadata": {},
   "source": [
    "Teniendo en cuenta el alto valor de max_depth y el score de train, parece que estamos ante un modelo con overfitting."
   ]
  },
  {
   "cell_type": "code",
   "execution_count": 23,
   "id": "6df36649-2b15-480d-8b97-74fc2b45baf3",
   "metadata": {},
   "outputs": [
    {
     "name": "stdout",
     "output_type": "stream",
     "text": [
      "Fitting 5 folds for each of 14 candidates, totalling 70 fits\n",
      "[CV] END ........................................max_depth=1; total time=   0.3s\n",
      "[CV] END ........................................max_depth=1; total time=   0.3s\n",
      "[CV] END ........................................max_depth=1; total time=   0.3s\n",
      "[CV] END ........................................max_depth=1; total time=   0.2s\n",
      "[CV] END ........................................max_depth=1; total time=   0.3s\n",
      "[CV] END ........................................max_depth=2; total time=   0.3s\n",
      "[CV] END ........................................max_depth=2; total time=   0.3s\n",
      "[CV] END ........................................max_depth=2; total time=   0.3s\n",
      "[CV] END ........................................max_depth=2; total time=   0.1s\n",
      "[CV] END ........................................max_depth=2; total time=   0.3s\n",
      "[CV] END ........................................max_depth=3; total time=   0.3s\n",
      "[CV] END ........................................max_depth=3; total time=   0.3s\n",
      "[CV] END ........................................max_depth=3; total time=   0.2s\n",
      "[CV] END ........................................max_depth=3; total time=   0.2s\n",
      "[CV] END ........................................max_depth=3; total time=   0.2s\n",
      "[CV] END ........................................max_depth=4; total time=   0.2s\n",
      "[CV] END ........................................max_depth=4; total time=   0.2s\n",
      "[CV] END ........................................max_depth=4; total time=   0.2s\n",
      "[CV] END ........................................max_depth=4; total time=   0.2s\n",
      "[CV] END ........................................max_depth=4; total time=   0.3s\n",
      "[CV] END ........................................max_depth=5; total time=   0.3s\n",
      "[CV] END ........................................max_depth=5; total time=   0.3s\n",
      "[CV] END ........................................max_depth=5; total time=   0.3s\n",
      "[CV] END ........................................max_depth=5; total time=   0.3s\n",
      "[CV] END ........................................max_depth=5; total time=   0.3s\n",
      "[CV] END ........................................max_depth=6; total time=   0.2s\n",
      "[CV] END ........................................max_depth=6; total time=   0.2s\n",
      "[CV] END ........................................max_depth=6; total time=   0.2s\n",
      "[CV] END ........................................max_depth=6; total time=   0.3s\n",
      "[CV] END ........................................max_depth=6; total time=   0.3s\n",
      "[CV] END ........................................max_depth=7; total time=   0.4s\n",
      "[CV] END ........................................max_depth=7; total time=   0.4s\n",
      "[CV] END ........................................max_depth=7; total time=   0.4s\n",
      "[CV] END ........................................max_depth=7; total time=   0.3s\n",
      "[CV] END ........................................max_depth=7; total time=   0.3s\n",
      "[CV] END ........................................max_depth=8; total time=   0.4s\n",
      "[CV] END ........................................max_depth=8; total time=   0.4s\n",
      "[CV] END ........................................max_depth=8; total time=   0.3s\n",
      "[CV] END ........................................max_depth=8; total time=   0.2s\n",
      "[CV] END ........................................max_depth=8; total time=   0.2s\n",
      "[CV] END ........................................max_depth=9; total time=   0.2s\n",
      "[CV] END ........................................max_depth=9; total time=   0.3s\n",
      "[CV] END ........................................max_depth=9; total time=   0.3s\n",
      "[CV] END ........................................max_depth=9; total time=   0.4s\n",
      "[CV] END ........................................max_depth=9; total time=   0.3s\n",
      "[CV] END .......................................max_depth=10; total time=   0.3s\n",
      "[CV] END .......................................max_depth=10; total time=   0.4s\n",
      "[CV] END .......................................max_depth=10; total time=   0.3s\n",
      "[CV] END .......................................max_depth=10; total time=   0.4s\n",
      "[CV] END .......................................max_depth=10; total time=   0.3s\n",
      "[CV] END .......................................max_depth=11; total time=   0.3s\n",
      "[CV] END .......................................max_depth=11; total time=   0.2s\n",
      "[CV] END .......................................max_depth=11; total time=   0.3s\n",
      "[CV] END .......................................max_depth=11; total time=   0.4s\n",
      "[CV] END .......................................max_depth=11; total time=   0.4s\n",
      "[CV] END .......................................max_depth=12; total time=   0.3s\n",
      "[CV] END .......................................max_depth=12; total time=   0.4s\n",
      "[CV] END .......................................max_depth=12; total time=   0.2s\n",
      "[CV] END .......................................max_depth=12; total time=   0.2s\n",
      "[CV] END .......................................max_depth=12; total time=   0.2s\n",
      "[CV] END .......................................max_depth=13; total time=   0.2s\n",
      "[CV] END .......................................max_depth=13; total time=   0.2s\n",
      "[CV] END .......................................max_depth=13; total time=   0.2s\n",
      "[CV] END .......................................max_depth=13; total time=   0.2s\n",
      "[CV] END .......................................max_depth=13; total time=   0.2s\n",
      "[CV] END .......................................max_depth=14; total time=   0.2s\n",
      "[CV] END .......................................max_depth=14; total time=   0.1s\n",
      "[CV] END .......................................max_depth=14; total time=   0.2s\n",
      "[CV] END .......................................max_depth=14; total time=   0.3s\n",
      "[CV] END .......................................max_depth=14; total time=   0.3s\n",
      "best mean cross-validation score: 0.826\n",
      "best parameters: {'max_depth': 4}\n"
     ]
    },
    {
     "data": {
      "image/png": "[encoded data removed]",
      "text/plain": [
       "<Figure size 640x480 with 1 Axes>"
      ]
     },
     "metadata": {},
     "output_type": "display_data"
    }
   ],
   "source": [
    "from sklearn.ensemble import RandomForestClassifier\n",
    "\n",
    "maxDepth = range(1,15)\n",
    "tuned_parameters = {'max_depth': maxDepth}\n",
    "\n",
    "# ... código aquí\n",
    "grid = GridSearchCV(RandomForestClassifier(), param_grid=tuned_parameters, verbose=2, cv=5, scoring='accuracy')\n",
    "grid.fit(X_train, y_train)\n",
    "\n",
    "print(\"best mean cross-validation score: {:.3f}\".format(grid.best_score_))\n",
    "print(\"best parameters: {}\".format(grid.best_params_))\n",
    "\n",
    "scores = np.array(grid.cv_results_['mean_test_score'])\n",
    "plt.plot(maxDepth,scores,'-o')\n",
    "plt.xlabel('max_depth')\n",
    "plt.ylabel('5-fold ACC')\n",
    "\n",
    "plt.show()"
   ]
  },
  {
   "cell_type": "code",
   "execution_count": 24,
   "id": "fd7bd117-66e3-4473-b28c-1f87f1219621",
   "metadata": {},
   "outputs": [
    {
     "name": "stdout",
     "output_type": "stream",
     "text": [
      "Train:  0.8249158249158249\n"
     ]
    }
   ],
   "source": [
    "maxDepthOptimo = grid.best_params_['max_depth']\n",
    "randomForest = RandomForestClassifier(max_depth=3).fit(X_train,y_train)\n",
    "\n",
    "print(\"Train: \",randomForest.score(X_train,y_train))"
   ]
  },
  {
   "cell_type": "code",
   "execution_count": 25,
   "id": "2c487bef-9e80-44ce-89a9-ee62f957eb6e",
   "metadata": {},
   "outputs": [
    {
     "name": "stdout",
     "output_type": "stream",
     "text": [
      "Fitting 3 folds for each of 36 candidates, totalling 108 fits\n",
      "[CV] END .................learning_rate=0.5, n_estimators=25; total time=   0.0s\n",
      "[CV] END .................learning_rate=0.5, n_estimators=25; total time=   0.0s\n",
      "[CV] END .................learning_rate=0.5, n_estimators=25; total time=   0.0s\n",
      "[CV] END .................learning_rate=0.5, n_estimators=50; total time=   0.0s\n",
      "[CV] END .................learning_rate=0.5, n_estimators=50; total time=   0.1s\n",
      "[CV] END .................learning_rate=0.5, n_estimators=50; total time=   0.0s\n",
      "[CV] END .................learning_rate=0.5, n_estimators=75; total time=   0.0s\n",
      "[CV] END .................learning_rate=0.5, n_estimators=75; total time=   0.1s\n",
      "[CV] END .................learning_rate=0.5, n_estimators=75; total time=   0.0s\n",
      "[CV] END ................learning_rate=0.5, n_estimators=100; total time=   0.1s\n",
      "[CV] END ................learning_rate=0.5, n_estimators=100; total time=   0.0s\n",
      "[CV] END ................learning_rate=0.5, n_estimators=100; total time=   0.2s\n",
      "[CV] END ................learning_rate=0.5, n_estimators=125; total time=   0.3s\n",
      "[CV] END ................learning_rate=0.5, n_estimators=125; total time=   0.1s\n",
      "[CV] END ................learning_rate=0.5, n_estimators=125; total time=   0.2s\n",
      "[CV] END ................learning_rate=0.5, n_estimators=150; total time=   0.2s\n",
      "[CV] END ................learning_rate=0.5, n_estimators=150; total time=   0.2s\n",
      "[CV] END ................learning_rate=0.5, n_estimators=150; total time=   0.2s\n",
      "[CV] END ................learning_rate=0.5, n_estimators=175; total time=   0.4s\n",
      "[CV] END ................learning_rate=0.5, n_estimators=175; total time=   0.3s\n",
      "[CV] END ................learning_rate=0.5, n_estimators=175; total time=   0.3s\n",
      "[CV] END ................learning_rate=0.5, n_estimators=200; total time=   0.4s\n",
      "[CV] END ................learning_rate=0.5, n_estimators=200; total time=   0.3s\n",
      "[CV] END ................learning_rate=0.5, n_estimators=200; total time=   0.4s\n",
      "[CV] END ................learning_rate=0.5, n_estimators=300; total time=   0.5s\n",
      "[CV] END ................learning_rate=0.5, n_estimators=300; total time=   0.5s\n",
      "[CV] END ................learning_rate=0.5, n_estimators=300; total time=   0.7s\n",
      "[CV] END .................learning_rate=0.1, n_estimators=25; total time=   0.0s\n",
      "[CV] END .................learning_rate=0.1, n_estimators=25; total time=   0.0s\n",
      "[CV] END .................learning_rate=0.1, n_estimators=25; total time=   0.0s\n",
      "[CV] END .................learning_rate=0.1, n_estimators=50; total time=   0.0s\n",
      "[CV] END .................learning_rate=0.1, n_estimators=50; total time=   0.0s\n",
      "[CV] END .................learning_rate=0.1, n_estimators=50; total time=   0.0s\n",
      "[CV] END .................learning_rate=0.1, n_estimators=75; total time=   0.2s\n",
      "[CV] END .................learning_rate=0.1, n_estimators=75; total time=   0.1s\n",
      "[CV] END .................learning_rate=0.1, n_estimators=75; total time=   0.1s\n",
      "[CV] END ................learning_rate=0.1, n_estimators=100; total time=   0.2s\n",
      "[CV] END ................learning_rate=0.1, n_estimators=100; total time=   0.1s\n",
      "[CV] END ................learning_rate=0.1, n_estimators=100; total time=   0.2s\n",
      "[CV] END ................learning_rate=0.1, n_estimators=125; total time=   0.3s\n",
      "[CV] END ................learning_rate=0.1, n_estimators=125; total time=   0.3s\n",
      "[CV] END ................learning_rate=0.1, n_estimators=125; total time=   0.2s\n",
      "[CV] END ................learning_rate=0.1, n_estimators=150; total time=   0.1s\n",
      "[CV] END ................learning_rate=0.1, n_estimators=150; total time=   0.2s\n",
      "[CV] END ................learning_rate=0.1, n_estimators=150; total time=   0.3s\n",
      "[CV] END ................learning_rate=0.1, n_estimators=175; total time=   0.3s\n",
      "[CV] END ................learning_rate=0.1, n_estimators=175; total time=   0.3s\n",
      "[CV] END ................learning_rate=0.1, n_estimators=175; total time=   0.3s\n",
      "[CV] END ................learning_rate=0.1, n_estimators=200; total time=   0.4s\n",
      "[CV] END ................learning_rate=0.1, n_estimators=200; total time=   0.5s\n",
      "[CV] END ................learning_rate=0.1, n_estimators=200; total time=   0.4s\n",
      "[CV] END ................learning_rate=0.1, n_estimators=300; total time=   0.5s\n",
      "[CV] END ................learning_rate=0.1, n_estimators=300; total time=   0.7s\n",
      "[CV] END ................learning_rate=0.1, n_estimators=300; total time=   0.7s\n",
      "[CV] END ................learning_rate=0.05, n_estimators=25; total time=   0.0s\n",
      "[CV] END ................learning_rate=0.05, n_estimators=25; total time=   0.0s\n",
      "[CV] END ................learning_rate=0.05, n_estimators=25; total time=   0.0s\n",
      "[CV] END ................learning_rate=0.05, n_estimators=50; total time=   0.0s\n",
      "[CV] END ................learning_rate=0.05, n_estimators=50; total time=   0.0s\n",
      "[CV] END ................learning_rate=0.05, n_estimators=50; total time=   0.0s\n",
      "[CV] END ................learning_rate=0.05, n_estimators=75; total time=   0.1s\n",
      "[CV] END ................learning_rate=0.05, n_estimators=75; total time=   0.1s\n",
      "[CV] END ................learning_rate=0.05, n_estimators=75; total time=   0.1s\n",
      "[CV] END ...............learning_rate=0.05, n_estimators=100; total time=   0.1s\n",
      "[CV] END ...............learning_rate=0.05, n_estimators=100; total time=   0.2s\n",
      "[CV] END ...............learning_rate=0.05, n_estimators=100; total time=   0.1s\n",
      "[CV] END ...............learning_rate=0.05, n_estimators=125; total time=   0.3s\n",
      "[CV] END ...............learning_rate=0.05, n_estimators=125; total time=   0.2s\n",
      "[CV] END ...............learning_rate=0.05, n_estimators=125; total time=   0.2s\n",
      "[CV] END ...............learning_rate=0.05, n_estimators=150; total time=   0.2s\n",
      "[CV] END ...............learning_rate=0.05, n_estimators=150; total time=   0.3s\n",
      "[CV] END ...............learning_rate=0.05, n_estimators=150; total time=   0.3s\n",
      "[CV] END ...............learning_rate=0.05, n_estimators=175; total time=   0.3s\n",
      "[CV] END ...............learning_rate=0.05, n_estimators=175; total time=   0.3s\n",
      "[CV] END ...............learning_rate=0.05, n_estimators=175; total time=   0.2s\n",
      "[CV] END ...............learning_rate=0.05, n_estimators=200; total time=   0.3s\n",
      "[CV] END ...............learning_rate=0.05, n_estimators=200; total time=   0.2s\n",
      "[CV] END ...............learning_rate=0.05, n_estimators=200; total time=   0.3s\n",
      "[CV] END ...............learning_rate=0.05, n_estimators=300; total time=   0.4s\n",
      "[CV] END ...............learning_rate=0.05, n_estimators=300; total time=   0.4s\n",
      "[CV] END ...............learning_rate=0.05, n_estimators=300; total time=   0.3s\n",
      "[CV] END ................learning_rate=0.01, n_estimators=25; total time=   0.0s\n",
      "[CV] END ................learning_rate=0.01, n_estimators=25; total time=   0.0s\n",
      "[CV] END ................learning_rate=0.01, n_estimators=25; total time=   0.0s\n",
      "[CV] END ................learning_rate=0.01, n_estimators=50; total time=   0.0s\n",
      "[CV] END ................learning_rate=0.01, n_estimators=50; total time=   0.0s\n",
      "[CV] END ................learning_rate=0.01, n_estimators=50; total time=   0.0s\n",
      "[CV] END ................learning_rate=0.01, n_estimators=75; total time=   0.0s\n",
      "[CV] END ................learning_rate=0.01, n_estimators=75; total time=   0.0s\n",
      "[CV] END ................learning_rate=0.01, n_estimators=75; total time=   0.0s\n",
      "[CV] END ...............learning_rate=0.01, n_estimators=100; total time=   0.0s\n",
      "[CV] END ...............learning_rate=0.01, n_estimators=100; total time=   0.1s\n",
      "[CV] END ...............learning_rate=0.01, n_estimators=100; total time=   0.1s\n",
      "[CV] END ...............learning_rate=0.01, n_estimators=125; total time=   0.1s\n",
      "[CV] END ...............learning_rate=0.01, n_estimators=125; total time=   0.2s\n",
      "[CV] END ...............learning_rate=0.01, n_estimators=125; total time=   0.2s\n",
      "[CV] END ...............learning_rate=0.01, n_estimators=150; total time=   0.2s\n",
      "[CV] END ...............learning_rate=0.01, n_estimators=150; total time=   0.1s\n",
      "[CV] END ...............learning_rate=0.01, n_estimators=150; total time=   0.2s\n",
      "[CV] END ...............learning_rate=0.01, n_estimators=175; total time=   0.2s\n",
      "[CV] END ...............learning_rate=0.01, n_estimators=175; total time=   0.2s\n",
      "[CV] END ...............learning_rate=0.01, n_estimators=175; total time=   0.2s\n",
      "[CV] END ...............learning_rate=0.01, n_estimators=200; total time=   0.2s\n",
      "[CV] END ...............learning_rate=0.01, n_estimators=200; total time=   0.3s\n",
      "[CV] END ...............learning_rate=0.01, n_estimators=200; total time=   0.1s\n",
      "[CV] END ...............learning_rate=0.01, n_estimators=300; total time=   0.5s\n",
      "[CV] END ...............learning_rate=0.01, n_estimators=300; total time=   0.6s\n",
      "[CV] END ...............learning_rate=0.01, n_estimators=300; total time=   0.4s\n",
      "best mean cross-validation score: 0.819\n",
      "best parameters: {'learning_rate': 0.05, 'n_estimators': 200}\n"
     ]
    }
   ],
   "source": [
    "from sklearn.ensemble import GradientBoostingClassifier\n",
    "\n",
    "Niterations = [25,50,75,100,125,150,175,200,300]\n",
    "learningRate = [0.5,0.1,0.05,0.01]\n",
    "# mantenemos max_depth estático: max_depth=2\n",
    "\n",
    "param_grid = {'n_estimators': Niterations,'learning_rate':learningRate }\n",
    "grid = GridSearchCV(GradientBoostingClassifier(random_state=0, max_depth=2), param_grid=param_grid, cv = 3, verbose=2)\n",
    "grid.fit(X_train, y_train)\n",
    "print(\"best mean cross-validation score: {:.3f}\".format(grid.best_score_))\n",
    "print(\"best parameters: {}\".format(grid.best_params_))"
   ]
  },
  {
   "cell_type": "code",
   "execution_count": 26,
   "id": "faebd7f5-101b-4dba-aaaf-8f7d5ca59627",
   "metadata": {},
   "outputs": [
    {
     "data": {
      "image/png": "[encoded data removed]",
      "text/plain": [
       "<Figure size 640x480 with 1 Axes>"
      ]
     },
     "metadata": {},
     "output_type": "display_data"
    }
   ],
   "source": [
    "# calculamos métricas globales\n",
    "lrOptimo = grid.best_params_['learning_rate']\n",
    "neOptimo = grid.best_params_['n_estimators']\n",
    "bt = GradientBoostingClassifier(random_state=0, max_depth=2,learning_rate=lrOptimo, n_estimators=neOptimo)\n",
    "bt.fit(X_train,y_train)\n",
    "\n",
    "error = 1-grid.cv_results_['mean_test_score'].reshape(len(learningRate),len(Niterations))\n",
    "colors = ['r','b','g','k','m']\n",
    "for i,lr in enumerate(learningRate):\n",
    "    plt.plot(Niterations,error[i,:],colors[i] + '--o',label='lr = %g'%lr)\n",
    "\n",
    "plt.legend()\n",
    "plt.xlabel('# iteraciones')\n",
    "plt.ylabel('5-fold CV Error')\n",
    "plt.title('train: %0.3f'%(bt.score(X_train,y_train)))\n",
    "plt.grid()\n",
    "plt.show()"
   ]
  },
  {
   "cell_type": "code",
   "execution_count": 30,
   "id": "d8995e67-f81f-40b8-a092-22198a1314c5",
   "metadata": {},
   "outputs": [
    {
     "name": "stdout",
     "output_type": "stream",
     "text": [
      "Requirement already satisfied: xgboost in c:\\users\\hugom\\anaconda3\\lib\\site-packages (3.0.5)\n",
      "Requirement already satisfied: numpy in c:\\users\\hugom\\anaconda3\\lib\\site-packages (from xgboost) (2.1.3)\n",
      "Requirement already satisfied: scipy in c:\\users\\hugom\\anaconda3\\lib\\site-packages (from xgboost) (1.15.3)\n"
     ]
    }
   ],
   "source": [
    "!pip install xgboost"
   ]
  },
  {
   "cell_type": "code",
   "execution_count": 32,
   "id": "d62aa391-9350-49f8-8266-ce31a90a4322",
   "metadata": {},
   "outputs": [
    {
     "name": "stdout",
     "output_type": "stream",
     "text": [
      "Train:  0.8428731762065096\n"
     ]
    }
   ],
   "source": [
    "from xgboost import XGBClassifier\n",
    "\n",
    "xgb = XGBClassifier(random_state=0, max_depth=3,learning_rate=0.01, n_estimators=500)\n",
    "xgb.fit(X_train,y_train)\n",
    "\n",
    "print(\"Train: \",xgb.score(X_train,y_train))"
   ]
  },
  {
   "cell_type": "code",
   "execution_count": 33,
   "id": "1cafeb01-4f87-4e6b-aa98-04702be4d1dc",
   "metadata": {},
   "outputs": [],
   "source": [
    "# Test predictions\n",
    "predictions = xgb.predict(X_test)"
   ]
  },
  {
   "cell_type": "markdown",
   "id": "dec709c8-3619-45a7-b6b8-f8edbb866847",
   "metadata": {},
   "source": [
    "### Conclusions\n",
    "* Women had a higher survival rate than men.\n",
    "* 1st Class passengers had better survival rate than 3rd Class.\n",
    "* As passengers’ age increases, it is more likely that they will not survive."
   ]
  },
  {
   "cell_type": "markdown",
   "id": "a785ed61-9bf1-4352-ad7d-add3281a26c1",
   "metadata": {},
   "source": [
    "### Submission"
   ]
  },
  {
   "cell_type": "code",
   "execution_count": 34,
   "id": "6fe34adf-9fa2-47cb-9362-024b0c113915",
   "metadata": {},
   "outputs": [
    {
     "name": "stdout",
     "output_type": "stream",
     "text": [
      "File created.\n"
     ]
    }
   ],
   "source": [
    "output=pd.DataFrame({'passengerId':submission.PassengerId, 'survived':predictions})\n",
    "output.to_csv('submission.csv', index=False)\n",
    "print(\"File created.\")"
   ]
  },
  {
   "cell_type": "code",
   "execution_count": null,
   "id": "ecabbe87-469b-4514-bf78-324895c9c646",
   "metadata": {},
   "outputs": [],
   "source": []
  }
 ],
 "metadata": {
  "kernelspec": {
   "display_name": "Python 3 (ipykernel)",
   "language": "python",
   "name": "python3"
  },
  "language_info": {
   "codemirror_mode": {
    "name": "ipython",
    "version": 3
   },
   "file_extension": ".py",
   "mimetype": "text/x-python",
   "name": "python",
   "nbconvert_exporter": "python",
   "pygments_lexer": "ipython3",
   "version": "3.13.5"
  }
 },
 "nbformat": 4,
 "nbformat_minor": 5
}
